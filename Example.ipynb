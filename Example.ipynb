{
 "cells": [
  {
   "cell_type": "code",
   "execution_count": 1,
   "metadata": {},
   "outputs": [
    {
     "name": "stdout",
     "output_type": "stream",
     "text": [
      "Collecting GoogleSheetPlot==0.0.3\n",
      "  Downloading GoogleSheetPlot-0.0.3.tar.gz (79 kB)\n",
      "Requirement already satisfied: requests in c:\\users\\victor\\appdata\\local\\programs\\python\\python36-32\\lib\\site-packages (from GoogleSheetPlot==0.0.3) (2.24.0)\n",
      "Requirement already satisfied: pandas in c:\\users\\victor\\appdata\\local\\programs\\python\\python36-32\\lib\\site-packages (from GoogleSheetPlot==0.0.3) (1.0.3)\n",
      "Requirement already satisfied: matplotlib in c:\\users\\victor\\appdata\\local\\programs\\python\\python36-32\\lib\\site-packages (from GoogleSheetPlot==0.0.3) (2.2.2)\n",
      "Requirement already satisfied: google-api-python-client in c:\\users\\victor\\appdata\\local\\programs\\python\\python36-32\\lib\\site-packages (from GoogleSheetPlot==0.0.3) (1.12.3)\n",
      "Requirement already satisfied: google-auth-httplib2 in c:\\users\\victor\\appdata\\local\\programs\\python\\python36-32\\lib\\site-packages (from GoogleSheetPlot==0.0.3) (0.0.4)\n",
      "Requirement already satisfied: google-auth-oauthlib in c:\\users\\victor\\appdata\\local\\programs\\python\\python36-32\\lib\\site-packages (from GoogleSheetPlot==0.0.3) (0.4.1)\n"
     ]
    },
    {
     "name": "stderr",
     "output_type": "stream",
     "text": [
      "ERROR: Could not find a version that satisfies the requirement pickle (from GoogleSheetPlot==0.0.3) (from versions: none)\n",
      "ERROR: No matching distribution found for pickle (from GoogleSheetPlot==0.0.3)\n",
      "WARNING: You are using pip version 20.1.1; however, version 20.2.3 is available.\n",
      "You should consider upgrading via the 'c:\\users\\victor\\appdata\\local\\programs\\python\\python36-32\\python.exe -m pip install --upgrade pip' command.\n"
     ]
    }
   ],
   "source": [
    "!pip install GoogleSheetPlot==0.0.3"
   ]
  },
  {
   "cell_type": "code",
   "execution_count": 3,
   "metadata": {},
   "outputs": [],
   "source": [
    "from GoogleSheetPlot import GoogleSheetPlot\n",
    "SAMPLE_SPREADSHEET_ID = '1SrZfvr2ee54r7HR1jGtAE9zHIj_Y-UzK9ok8bdwkpqc'\n",
    "SAMPLE_RANGE_NAME = 'A1:C80'"
   ]
  },
  {
   "cell_type": "code",
   "execution_count": 4,
   "metadata": {},
   "outputs": [
    {
     "ename": "NameError",
     "evalue": "name 'SI' is not defined",
     "output_type": "error",
     "traceback": [
      "\u001b[1;31m---------------------------------------------------------------------------\u001b[0m",
      "\u001b[1;31mNameError\u001b[0m                                 Traceback (most recent call last)",
      "\u001b[1;32m<ipython-input-4-e64876d885e8>\u001b[0m in \u001b[0;36m<module>\u001b[1;34m()\u001b[0m\n\u001b[0;32m      1\u001b[0m \u001b[0mgsp\u001b[0m \u001b[1;33m=\u001b[0m \u001b[0mGoogleSheetPlot\u001b[0m\u001b[1;33m(\u001b[0m\u001b[1;33m)\u001b[0m\u001b[1;33m\u001b[0m\u001b[0m\n\u001b[1;32m----> 2\u001b[1;33m \u001b[0mdf\u001b[0m \u001b[1;33m=\u001b[0m \u001b[0mgsp\u001b[0m\u001b[1;33m.\u001b[0m\u001b[0mgetDataFrame\u001b[0m\u001b[1;33m(\u001b[0m\u001b[0mSAMPLE_SPREADSHEET_ID\u001b[0m\u001b[1;33m,\u001b[0m \u001b[0mSAMPLE_RANGE_NAME\u001b[0m\u001b[1;33m)\u001b[0m\u001b[1;33m\u001b[0m\u001b[0m\n\u001b[0m\u001b[0;32m      3\u001b[0m \u001b[0mdf\u001b[0m\u001b[1;33m.\u001b[0m\u001b[0mhead\u001b[0m\u001b[1;33m(\u001b[0m\u001b[1;33m)\u001b[0m\u001b[1;33m\u001b[0m\u001b[0m\n",
      "\u001b[1;32mF:\\Greendeck\\GoogleSheetPlot\\GoogleSheetPlot\\GoogleSheetPlot.py\u001b[0m in \u001b[0;36mgetDataFrame\u001b[1;34m(self, SSI, SRN)\u001b[0m\n\u001b[0;32m     18\u001b[0m            \u001b[0mAccessed\u001b[0m \u001b[0mgoogle\u001b[0m \u001b[0msheet\u001b[0m \u001b[1;32min\u001b[0m \u001b[0mdataframe\u001b[0m \u001b[0mformat\u001b[0m\u001b[1;33m.\u001b[0m\u001b[1;33m\u001b[0m\u001b[0m\n\u001b[0;32m     19\u001b[0m         \"\"\"\n\u001b[1;32m---> 20\u001b[1;33m         \u001b[0msheet\u001b[0m \u001b[1;33m=\u001b[0m \u001b[0maccess_sheet\u001b[0m\u001b[1;33m(\u001b[0m\u001b[0mSSI\u001b[0m\u001b[1;33m,\u001b[0m \u001b[0mSRN\u001b[0m\u001b[1;33m)\u001b[0m\u001b[1;33m\u001b[0m\u001b[0m\n\u001b[0m\u001b[0;32m     21\u001b[0m         \u001b[0mself\u001b[0m\u001b[1;33m.\u001b[0m\u001b[0mdf\u001b[0m \u001b[1;33m=\u001b[0m \u001b[0mpd\u001b[0m\u001b[1;33m.\u001b[0m\u001b[0mDataFrame\u001b[0m\u001b[1;33m(\u001b[0m\u001b[0msheet\u001b[0m\u001b[1;33m(\u001b[0m\u001b[1;33m)\u001b[0m\u001b[1;33m[\u001b[0m\u001b[1;36m1\u001b[0m\u001b[1;33m:\u001b[0m\u001b[1;33m]\u001b[0m\u001b[1;33m,\u001b[0m \u001b[0mcolumns\u001b[0m\u001b[1;33m=\u001b[0m\u001b[0msheet\u001b[0m\u001b[1;33m(\u001b[0m\u001b[1;33m)\u001b[0m\u001b[1;33m[\u001b[0m\u001b[1;36m0\u001b[0m\u001b[1;33m]\u001b[0m\u001b[1;33m)\u001b[0m\u001b[1;33m\u001b[0m\u001b[0m\n\u001b[0;32m     22\u001b[0m         \u001b[1;32mreturn\u001b[0m \u001b[0mself\u001b[0m\u001b[1;33m.\u001b[0m\u001b[0mdf\u001b[0m\u001b[1;33m\u001b[0m\u001b[0m\n",
      "\u001b[1;32mF:\\Greendeck\\GoogleSheetPlot\\GoogleSheetPlot\\application.py\u001b[0m in \u001b[0;36m__init__\u001b[1;34m(self, SSI, SRN)\u001b[0m\n\u001b[0;32m     26\u001b[0m         \u001b[1;32mif\u001b[0m \u001b[0mSRN\u001b[0m\u001b[1;33m==\u001b[0m\u001b[1;32mNone\u001b[0m\u001b[1;33m:\u001b[0m\u001b[1;33m\u001b[0m\u001b[0m\n\u001b[0;32m     27\u001b[0m             \u001b[1;32mraise\u001b[0m \u001b[0mException\u001b[0m\u001b[1;33m(\u001b[0m\u001b[1;34m\"SAMPLE_RANGE_NAME is missing.\"\u001b[0m\u001b[1;33m)\u001b[0m\u001b[1;33m\u001b[0m\u001b[0m\n\u001b[1;32m---> 28\u001b[1;33m         \u001b[0mself\u001b[0m\u001b[1;33m.\u001b[0m\u001b[0mSPREADSHEET_ID\u001b[0m \u001b[1;33m=\u001b[0m \u001b[0mSI\u001b[0m\u001b[1;33m\u001b[0m\u001b[0m\n\u001b[0m\u001b[0;32m     29\u001b[0m         \u001b[0mself\u001b[0m\u001b[1;33m.\u001b[0m\u001b[0mRANGE_NAME\u001b[0m \u001b[1;33m=\u001b[0m \u001b[0mRN\u001b[0m\u001b[1;33m\u001b[0m\u001b[0m\n\u001b[0;32m     30\u001b[0m         \u001b[0mself\u001b[0m\u001b[1;33m.\u001b[0m\u001b[0mSCOPES\u001b[0m \u001b[1;33m=\u001b[0m \u001b[1;33m[\u001b[0m\u001b[1;34m'https://www.googleapis.com/auth/spreadsheets.readonly'\u001b[0m\u001b[1;33m]\u001b[0m\u001b[1;31m# If modifying these scopes, delete the file token.pickle.\u001b[0m\u001b[1;33m\u001b[0m\u001b[0m\n",
      "\u001b[1;31mNameError\u001b[0m: name 'SI' is not defined"
     ]
    }
   ],
   "source": [
    "gsp = GoogleSheetPlot()\n",
    "df = gsp.getDataFrame(SAMPLE_SPREADSHEET_ID, SAMPLE_RANGE_NAME)\n",
    "df.head()"
   ]
  },
  {
   "cell_type": "code",
   "execution_count": null,
   "metadata": {},
   "outputs": [],
   "source": []
  }
 ],
 "metadata": {
  "kernelspec": {
   "display_name": "Python 3",
   "language": "python",
   "name": "python3"
  },
  "language_info": {
   "codemirror_mode": {
    "name": "ipython",
    "version": 3
   },
   "file_extension": ".py",
   "mimetype": "text/x-python",
   "name": "python",
   "nbconvert_exporter": "python",
   "pygments_lexer": "ipython3",
   "version": "3.6.5"
  }
 },
 "nbformat": 4,
 "nbformat_minor": 2
}
